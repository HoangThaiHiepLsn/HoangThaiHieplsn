{
  "nbformat": 4,
  "nbformat_minor": 0,
  "metadata": {
    "colab": {
      "provenance": [],
      "collapsed_sections": [],
      "authorship_tag": "ABX9TyNsLTrqfRA3ebTcMCcnbRaq",
      "include_colab_link": true
    },
    "kernelspec": {
      "name": "python3",
      "display_name": "Python 3"
    },
    "language_info": {
      "name": "python"
    }
  },
  "cells": [
    {
      "cell_type": "markdown",
      "metadata": {
        "id": "view-in-github",
        "colab_type": "text"
      },
      "source": [
        "<a href=\"https://colab.research.google.com/github/HoangThaiHiepLsn/HoangThaiHieplsn/blob/main/Hoanghieplsn_thuchanh_Numpy.ipynb\" target=\"_parent\"><img src=\"https://colab.research.google.com/assets/colab-badge.svg\" alt=\"Open In Colab\"/></a>"
      ]
    },
    {
      "cell_type": "code",
      "execution_count": null,
      "metadata": {
        "id": "R57E5_keGe-S",
        "colab": {
          "base_uri": "https://localhost:8080/"
        },
        "outputId": "3f328c28-5160-4d1e-e7a0-170e72841a92"
      },
      "outputs": [
        {
          "output_type": "stream",
          "name": "stdout",
          "text": [
            "[0 1 2 3 4 5 6 7 8 9]\n",
            "(10,)\n",
            "-----------------------\n",
            "tf.Tensor([0 1 2 3 4 5 6 7 8 9], shape=(10,), dtype=int64)\n",
            "(10,)\n",
            "-----------------------\n",
            "[0 1 2 3 4 5 6 7 8 9]\n",
            "(10,)\n",
            "-----------------------\n"
          ]
        }
      ],
      "source": [
        "# Numpy array\n",
        "import tensorflow as tf\n",
        "import numpy as np\n",
        "arr_np = np.arange(10)\n",
        "print(arr_np)\n",
        "print(arr_np.shape)\n",
        "print('-----------------------')\n",
        "arr_tf = tf.convert_to_tensor(arr_np)\n",
        "print(arr_tf)\n",
        "print(arr_tf.shape)\n",
        "print('-----------------------')\n",
        "arr_np_back = arr_tf.numpy()\n",
        "print(arr_np_back)\n",
        "print(arr_np_back.shape)\n",
        "print('-----------------------')"
      ]
    },
    {
      "cell_type": "code",
      "source": [
        "# Creat Numpy array from list\n",
        "import numpy as np\n",
        "l = list(range(1,4))\n",
        "data = np.array(l)\n",
        "\n",
        "print(data)\n",
        "print(data[0])\n",
        "print(data[1])"
      ],
      "metadata": {
        "colab": {
          "base_uri": "https://localhost:8080/"
        },
        "id": "ZYAznsb3k6Wd",
        "outputId": "50b47d15-5ce4-42e9-a860-b6af29a84c8a"
      },
      "execution_count": null,
      "outputs": [
        {
          "output_type": "stream",
          "name": "stdout",
          "text": [
            "[1 2 3]\n",
            "1\n",
            "2\n"
          ]
        }
      ]
    },
    {
      "cell_type": "code",
      "source": [
        "import numpy as np\n",
        "list1D = [1,2,3]\n",
        "data = np.array(list1D)\n",
        "\n",
        "print(data)\n",
        "print(data.shape)"
      ],
      "metadata": {
        "colab": {
          "base_uri": "https://localhost:8080/"
        },
        "id": "uPGOmFbBlLOA",
        "outputId": "dc826aca-b284-4a21-c7e5-c894b7f92d8e"
      },
      "execution_count": null,
      "outputs": [
        {
          "output_type": "stream",
          "name": "stdout",
          "text": [
            "[1 2 3]\n",
            "(3,)\n"
          ]
        }
      ]
    },
    {
      "cell_type": "code",
      "source": [
        "import numpy as np\n",
        "list2D = [[1,2,],[3,4],[5,6]]\n",
        "data = np.array(list2D)\n",
        "\n",
        "print(data)\n",
        "print(data.shape)"
      ],
      "metadata": {
        "colab": {
          "base_uri": "https://localhost:8080/"
        },
        "id": "Div8skQwlcum",
        "outputId": "e5e9e116-cac5-483b-eade-189db5dcbe25"
      },
      "execution_count": null,
      "outputs": [
        {
          "output_type": "stream",
          "name": "stdout",
          "text": [
            "[[1 2]\n",
            " [3 4]\n",
            " [5 6]]\n",
            "(3, 2)\n"
          ]
        }
      ]
    },
    {
      "cell_type": "code",
      "source": [
        "import numpy as np\n",
        "list3D = [[[1,6],[2,2],[3,4]],\n",
        "          [[4,7],[2,4],[7,9]],\n",
        "          [[7,7],[5,6],[9,9]]]\n",
        "          \n",
        "data = np.array(list3D)\n",
        "\n",
        "print(data.shape)"
      ],
      "metadata": {
        "colab": {
          "base_uri": "https://localhost:8080/"
        },
        "id": "u785QB1kllNM",
        "outputId": "9bb2f212-174e-4ee7-bae2-52acb4fef9fd"
      },
      "execution_count": null,
      "outputs": [
        {
          "output_type": "stream",
          "name": "stdout",
          "text": [
            "(3, 3, 2)\n"
          ]
        }
      ]
    },
    {
      "cell_type": "code",
      "source": [
        "import numpy as np\n",
        "data1 = np.array([1,2,3])\n",
        "print(data.dtype)\n",
        "\n",
        "data2 = np.array([1.,2.,3.])\n",
        "print(data2.dtype)\n",
        "\n",
        "data3 = np.array([1,2,3], dtype=np.int64)\n",
        "print(data3.dtype)"
      ],
      "metadata": {
        "colab": {
          "base_uri": "https://localhost:8080/"
        },
        "id": "wOvLRpuIlnJe",
        "outputId": "5fb6c05d-2c5d-46aa-ba4c-5588fe9c0836"
      },
      "execution_count": null,
      "outputs": [
        {
          "output_type": "stream",
          "name": "stdout",
          "text": [
            "int64\n",
            "float64\n",
            "int64\n"
          ]
        }
      ]
    },
    {
      "cell_type": "code",
      "source": [
        "import numpy as np\n",
        "l = list(range(1,4))\n",
        "data = np.array(l)\n",
        "print(data)\n",
        "\n",
        "data[0] = 8\n",
        "print(data)"
      ],
      "metadata": {
        "colab": {
          "base_uri": "https://localhost:8080/"
        },
        "id": "Eu73vFQDlrjv",
        "outputId": "80a18425-4c25-4df7-86f2-771ea762eaaa"
      },
      "execution_count": null,
      "outputs": [
        {
          "output_type": "stream",
          "name": "stdout",
          "text": [
            "[1 2 3]\n",
            "[8 2 3]\n"
          ]
        }
      ]
    },
    {
      "cell_type": "code",
      "source": [
        "import numpy as np\n",
        "arr = np.zeros((2,3))\n",
        "print(arr)"
      ],
      "metadata": {
        "colab": {
          "base_uri": "https://localhost:8080/"
        },
        "id": "pO8-41KqlvvN",
        "outputId": "bd747d00-1fcc-475e-b8e0-fc25f4265ced"
      },
      "execution_count": null,
      "outputs": [
        {
          "output_type": "stream",
          "name": "stdout",
          "text": [
            "[[0. 0. 0.]\n",
            " [0. 0. 0.]]\n"
          ]
        }
      ]
    },
    {
      "cell_type": "code",
      "source": [
        "import numpy as np\n",
        "arr = np.ones((2,3))\n",
        "print(arr)"
      ],
      "metadata": {
        "colab": {
          "base_uri": "https://localhost:8080/"
        },
        "id": "-vMjhzaPly0n",
        "outputId": "f1ae19dc-ce8b-4083-affc-55ae5738f2da"
      },
      "execution_count": null,
      "outputs": [
        {
          "output_type": "stream",
          "name": "stdout",
          "text": [
            "[[1. 1. 1.]\n",
            " [1. 1. 1.]]\n"
          ]
        }
      ]
    },
    {
      "cell_type": "code",
      "source": [
        "import numpy as np\n",
        "arr = np.full((2,3),9)\n",
        "print(arr)"
      ],
      "metadata": {
        "colab": {
          "base_uri": "https://localhost:8080/"
        },
        "id": "YaBk9pNwl25k",
        "outputId": "41d47bd7-1382-4f37-ff5e-d25c854164e5"
      },
      "execution_count": null,
      "outputs": [
        {
          "output_type": "stream",
          "name": "stdout",
          "text": [
            "[[9 9 9]\n",
            " [9 9 9]]\n"
          ]
        }
      ]
    },
    {
      "cell_type": "code",
      "source": [
        "import numpy as np\n",
        "arr1 = np.arange(5)\n",
        "print(arr1)\n",
        "\n",
        "arr2 = np.arange(0,5,2)\n",
        "print(arr2)"
      ],
      "metadata": {
        "colab": {
          "base_uri": "https://localhost:8080/"
        },
        "id": "iqmDlnPel6J2",
        "outputId": "dc94a311-a8a3-4d2b-df44-8b64cce70829"
      },
      "execution_count": null,
      "outputs": [
        {
          "output_type": "stream",
          "name": "stdout",
          "text": [
            "[0 1 2 3 4]\n",
            "[0 2 4]\n"
          ]
        }
      ]
    },
    {
      "cell_type": "code",
      "source": [
        "import numpy as np\n",
        "arr = np.eye(3)\n",
        "print(arr)"
      ],
      "metadata": {
        "colab": {
          "base_uri": "https://localhost:8080/"
        },
        "id": "AZ06QTHhl91s",
        "outputId": "55c86375-6c71-4190-a6e3-c9913b14386d"
      },
      "execution_count": null,
      "outputs": [
        {
          "output_type": "stream",
          "name": "stdout",
          "text": [
            "[[1. 0. 0.]\n",
            " [0. 1. 0.]\n",
            " [0. 0. 1.]]\n"
          ]
        }
      ]
    },
    {
      "cell_type": "code",
      "source": [
        "import numpy as np\n",
        "arr = np.random.random((2,3))\n",
        "print(arr)"
      ],
      "metadata": {
        "colab": {
          "base_uri": "https://localhost:8080/"
        },
        "id": "Mj5dtTbLmBeG",
        "outputId": "432ee6c5-a726-4c60-9ae4-aacda5cadcce"
      },
      "execution_count": null,
      "outputs": [
        {
          "output_type": "stream",
          "name": "stdout",
          "text": [
            "[[0.06158518 0.13669269 0.91370852]\n",
            " [0.32138689 0.77510786 0.19352406]]\n"
          ]
        }
      ]
    },
    {
      "cell_type": "code",
      "source": [
        "import numpy as np\n",
        "arr = np.arange(5)\n",
        "print(arr)\n",
        "\n",
        "condition = arr < 3\n",
        "out = np.where(condition, arr, arr * 2)\n",
        "\n",
        "print(condition)\n",
        "print(out)"
      ],
      "metadata": {
        "colab": {
          "base_uri": "https://localhost:8080/"
        },
        "id": "hxHwM2ZImFv0",
        "outputId": "3fcaaf1e-3c34-4b3c-a5a6-c42009392ee9"
      },
      "execution_count": null,
      "outputs": [
        {
          "output_type": "stream",
          "name": "stdout",
          "text": [
            "[0 1 2 3 4]\n",
            "[ True  True  True False False]\n",
            "[0 1 2 6 8]\n"
          ]
        }
      ]
    },
    {
      "cell_type": "code",
      "source": [
        "import numpy as np\n",
        "arr = np.array([[2,3], [3,4]])\n",
        "out = arr.flatten()\n",
        "print(arr)\n",
        "print(out)"
      ],
      "metadata": {
        "colab": {
          "base_uri": "https://localhost:8080/"
        },
        "id": "0wWBeFLqmUwu",
        "outputId": "62c2109b-6d14-4d1d-e64b-6fba8ef9314f"
      },
      "execution_count": null,
      "outputs": [
        {
          "output_type": "stream",
          "name": "stdout",
          "text": [
            "[[2 3]\n",
            " [3 4]]\n",
            "[2 3 3 4]\n"
          ]
        }
      ]
    },
    {
      "cell_type": "code",
      "source": [
        "import numpy as np\n",
        "\n",
        "l = [[1,2,3],\n",
        "     [4,5,6]]\n",
        "\n",
        "data = np.array(l)\n",
        "print(data)\n",
        "print(data.shape)\n",
        "\n",
        "data_rs = np.reshape(data, (3,2))\n",
        "print(data_rs)\n",
        "print(data_rs.shape)"
      ],
      "metadata": {
        "colab": {
          "base_uri": "https://localhost:8080/"
        },
        "id": "zVrU_6YAmWmA",
        "outputId": "2760b95d-48d9-4ca3-9d4d-ce64814f8b94"
      },
      "execution_count": null,
      "outputs": [
        {
          "output_type": "stream",
          "name": "stdout",
          "text": [
            "[[1 2 3]\n",
            " [4 5 6]]\n",
            "(2, 3)\n",
            "[[1 2]\n",
            " [3 4]\n",
            " [5 6]]\n",
            "(3, 2)\n"
          ]
        }
      ]
    },
    {
      "cell_type": "code",
      "source": [
        "import numpy as np\n",
        "\n",
        "a_arr = np.array([[1,2,3],\n",
        "                  [5,6,7]])\n",
        "\n",
        "b_arr = a_arr[:, 1:3]\n",
        "print(a_arr)\n",
        "print(b_arr)"
      ],
      "metadata": {
        "colab": {
          "base_uri": "https://localhost:8080/"
        },
        "id": "Q0H8zkAYmavQ",
        "outputId": "51eb2908-a52d-456d-efb3-2c49ae8039f5"
      },
      "execution_count": null,
      "outputs": [
        {
          "output_type": "stream",
          "name": "stdout",
          "text": [
            "[[1 2 3]\n",
            " [5 6 7]]\n",
            "[[2 3]\n",
            " [6 7]]\n"
          ]
        }
      ]
    },
    {
      "cell_type": "code",
      "source": [
        "import numpy as np\n",
        "\n",
        "a_arr = np.array([[1,2,3],\n",
        "                  [5,6,7]])\n",
        "print(a_arr)\n",
        "\n",
        "b_arr = a_arr[:, 1:3]\n",
        "print(b_arr)\n",
        "\n",
        "print(a_arr[0,1])\n",
        "b_arr[0,0] = 99\n",
        "print(a_arr[0,1])"
      ],
      "metadata": {
        "colab": {
          "base_uri": "https://localhost:8080/"
        },
        "id": "I4sEBLoSmeDi",
        "outputId": "93b449cc-12a7-4a6d-a98f-c47581bbcba6"
      },
      "execution_count": null,
      "outputs": [
        {
          "output_type": "stream",
          "name": "stdout",
          "text": [
            "[[1 2 3]\n",
            " [5 6 7]]\n",
            "[[2 3]\n",
            " [6 7]]\n",
            "2\n",
            "99\n"
          ]
        }
      ]
    },
    {
      "cell_type": "code",
      "source": [
        "import numpy as np\n",
        "\n",
        "arr = np.array([[1,2,3],\n",
        "                [5,6,7],\n",
        "                [9,10,11]])\n",
        "\n",
        "row_m1 = arr[1, :]\n",
        "row_m2 = arr[1:2, :]\n",
        "\n",
        "print(row_m1, row_m1.shape)\n",
        "print(row_m2, row_m2.shape)"
      ],
      "metadata": {
        "colab": {
          "base_uri": "https://localhost:8080/"
        },
        "id": "RwKqHXMfmkQE",
        "outputId": "66c9241b-6c2a-4638-d843-85accb31b894"
      },
      "execution_count": null,
      "outputs": [
        {
          "output_type": "stream",
          "name": "stdout",
          "text": [
            "[5 6 7] (3,)\n",
            "[[5 6 7]] (1, 3)\n"
          ]
        }
      ]
    },
    {
      "cell_type": "code",
      "source": [
        "import numpy as np\n",
        "\n",
        "arr = np.array([[1,2,3],\n",
        "                [5,6,7],\n",
        "                [9,10,11]])\n",
        "\n",
        "col_m1 = arr[:, 1]\n",
        "col_m2 = arr[:, 1:2]\n",
        "\n",
        "print(col_m1, col_m1.shape)\n",
        "print(col_m2, col_m2.shape)"
      ],
      "metadata": {
        "colab": {
          "base_uri": "https://localhost:8080/"
        },
        "id": "_8_b4jATmpVO",
        "outputId": "5ca7f742-079f-4a57-e0bd-ce59a7b27591"
      },
      "execution_count": null,
      "outputs": [
        {
          "output_type": "stream",
          "name": "stdout",
          "text": [
            "[ 2  6 10] (3,)\n",
            "[[ 2]\n",
            " [ 6]\n",
            " [10]] (3, 1)\n"
          ]
        }
      ]
    },
    {
      "cell_type": "code",
      "source": [
        "import numpy as np\n",
        "\n",
        "arr = np.array([[1,2,3],\n",
        "                [5,6,7],\n",
        "                [9,10,11]])\n",
        "\n",
        "out1 = arr[[0,1,2],[0,1,0]]\n",
        "print(out1)\n",
        "out2 = arr [[0,0],[1,1]]\n",
        "print(out2)"
      ],
      "metadata": {
        "colab": {
          "base_uri": "https://localhost:8080/"
        },
        "id": "-f3BG8VxmqkY",
        "outputId": "051eb498-6cda-4b7f-b11b-7dccc8754600"
      },
      "execution_count": null,
      "outputs": [
        {
          "output_type": "stream",
          "name": "stdout",
          "text": [
            "[1 6 9]\n",
            "[2 2]\n"
          ]
        }
      ]
    },
    {
      "cell_type": "code",
      "source": [
        "import numpy as np\n",
        "\n",
        "arr = np.array([[1,2,3],\n",
        "                [5,6,7],\n",
        "                [9,10,11]])\n",
        "print(arr)\n",
        "\n",
        "bool_idx = (arr >2)\n",
        "print(bool_idx)"
      ],
      "metadata": {
        "colab": {
          "base_uri": "https://localhost:8080/"
        },
        "id": "QpEbwE7lmuFR",
        "outputId": "e354e9f2-7d64-43a8-f69a-e112642e1fc2"
      },
      "execution_count": null,
      "outputs": [
        {
          "output_type": "stream",
          "name": "stdout",
          "text": [
            "[[ 1  2  3]\n",
            " [ 5  6  7]\n",
            " [ 9 10 11]]\n",
            "[[False False  True]\n",
            " [ True  True  True]\n",
            " [ True  True  True]]\n"
          ]
        }
      ]
    },
    {
      "cell_type": "code",
      "source": [
        "import numpy as np\n",
        "\n",
        "x = np.array([1,2,3,4])\n",
        "y = np.array([5,6,7,8])\n",
        "\n",
        "print(x)\n",
        "print(y)\n",
        "\n",
        "print(x+y)\n",
        "print(np.add(x,y))"
      ],
      "metadata": {
        "colab": {
          "base_uri": "https://localhost:8080/"
        },
        "id": "KEp3RF9Kmyj6",
        "outputId": "a1e4c1b3-6b6c-47cd-977c-80ff8d844f6b"
      },
      "execution_count": null,
      "outputs": [
        {
          "output_type": "stream",
          "name": "stdout",
          "text": [
            "[1 2 3 4]\n",
            "[5 6 7 8]\n",
            "[ 6  8 10 12]\n",
            "[ 6  8 10 12]\n"
          ]
        }
      ]
    },
    {
      "cell_type": "code",
      "source": [
        "import numpy as np\n",
        "\n",
        "x = np.array([1,2,3,4])\n",
        "y = np.array([5,6,7,8])\n",
        "\n",
        "print(x)\n",
        "print(y)\n",
        "\n",
        "print(x-y)\n",
        "print(np.subtract(x,y))"
      ],
      "metadata": {
        "colab": {
          "base_uri": "https://localhost:8080/"
        },
        "id": "DVAHLP6Dm2E1",
        "outputId": "996b26ce-49e8-4fea-ea11-e30f679030ea"
      },
      "execution_count": null,
      "outputs": [
        {
          "output_type": "stream",
          "name": "stdout",
          "text": [
            "[1 2 3 4]\n",
            "[5 6 7 8]\n",
            "[-4 -4 -4 -4]\n",
            "[-4 -4 -4 -4]\n"
          ]
        }
      ]
    },
    {
      "cell_type": "code",
      "source": [
        "import numpy as np\n",
        "\n",
        "x = np.array([1,2,3,4])\n",
        "y = np.array([5,6,7,8])\n",
        "\n",
        "print(x)\n",
        "print(y)\n",
        "\n",
        "print(x*y)\n",
        "print(np.multiply(x,y))"
      ],
      "metadata": {
        "colab": {
          "base_uri": "https://localhost:8080/"
        },
        "id": "3rcI7JkRm3W1",
        "outputId": "e3724cc6-d2c6-4dc5-c264-cd016da53285"
      },
      "execution_count": null,
      "outputs": [
        {
          "output_type": "stream",
          "name": "stdout",
          "text": [
            "[1 2 3 4]\n",
            "[5 6 7 8]\n",
            "[ 5 12 21 32]\n",
            "[ 5 12 21 32]\n"
          ]
        }
      ]
    },
    {
      "cell_type": "code",
      "source": [
        "import numpy as np\n",
        "\n",
        "x = np.array([5,6,7,8])\n",
        "y = np.array([1,2,3,4])\n",
        "\n",
        "print(x)\n",
        "print(y)\n",
        "#chia cac tung phan tuong ung x cho y\n",
        "print(x/y)\n",
        "print(x//y)\n",
        "print(np.divide(x,y))"
      ],
      "metadata": {
        "colab": {
          "base_uri": "https://localhost:8080/"
        },
        "id": "2B_rab5nm7W9",
        "outputId": "42eb0547-9cbc-4f96-c5cc-d455429a991a"
      },
      "execution_count": null,
      "outputs": [
        {
          "output_type": "stream",
          "name": "stdout",
          "text": [
            "[5 6 7 8]\n",
            "[1 2 3 4]\n",
            "[5.         3.         2.33333333 2.        ]\n",
            "[5 3 2 2]\n",
            "[5.         3.         2.33333333 2.        ]\n"
          ]
        }
      ]
    },
    {
      "cell_type": "code",
      "source": [
        "import numpy as np\n",
        "\n",
        "x = np.array([5,6,7,8])\n",
        "print(x)\n",
        "print('can bac 2', np.sqrt(x))"
      ],
      "metadata": {
        "colab": {
          "base_uri": "https://localhost:8080/"
        },
        "id": "ePFI3UaBm-sF",
        "outputId": "5ecf5dd2-4555-43eb-e858-0ff6555efe63"
      },
      "execution_count": null,
      "outputs": [
        {
          "output_type": "stream",
          "name": "stdout",
          "text": [
            "[5 6 7 8]\n",
            "can bac 2 [2.23606798 2.44948974 2.64575131 2.82842712]\n"
          ]
        }
      ]
    },
    {
      "cell_type": "code",
      "source": [
        "import numpy as np\n",
        "\n",
        "v = np.array([1,2])\n",
        "w = np.array([2,3])\n",
        "#tinh inner product\n",
        "print(v.dot(w))\n",
        "print(np.dot(v,w))"
      ],
      "metadata": {
        "colab": {
          "base_uri": "https://localhost:8080/"
        },
        "id": "GeDbJt3vnAKV",
        "outputId": "155bbdaf-d07b-46de-8261-04cf4154d318"
      },
      "execution_count": null,
      "outputs": [
        {
          "output_type": "stream",
          "name": "stdout",
          "text": [
            "8\n",
            "8\n"
          ]
        }
      ]
    },
    {
      "cell_type": "code",
      "source": [
        "import numpy as np\n",
        "v = np.array([[1,2],[3,4]])\n",
        "w = np.array([2,3])\n",
        "\n",
        "\n",
        "print(v)\n",
        "print(w)\n",
        "\n",
        "print(v.dot(w))\n",
        "print(w.dot(v))"
      ],
      "metadata": {
        "colab": {
          "base_uri": "https://localhost:8080/"
        },
        "id": "AbFVgNkqnHnf",
        "outputId": "3b6fec81-41f3-4213-b253-f90fae0a012a"
      },
      "execution_count": null,
      "outputs": [
        {
          "output_type": "stream",
          "name": "stdout",
          "text": [
            "[[1 2]\n",
            " [3 4]]\n",
            "[2 3]\n",
            "[ 8 18]\n",
            "[11 16]\n"
          ]
        }
      ]
    },
    {
      "cell_type": "code",
      "source": [
        "import numpy as np\n",
        "\n",
        "x = np.array([[1,2],\n",
        "              [3,4]])\n",
        "y = np.array([[2,3],\n",
        "              [2,1]])\n",
        "\n",
        "#nhan giua 2 ma tran\n",
        "print(x.dot(y))\n",
        "print(y.dot(x))"
      ],
      "metadata": {
        "colab": {
          "base_uri": "https://localhost:8080/"
        },
        "id": "UXT_QM0InK8v",
        "outputId": "f5a331bb-3fe0-43ec-c2cd-78601768c15d"
      },
      "execution_count": null,
      "outputs": [
        {
          "output_type": "stream",
          "name": "stdout",
          "text": [
            "[[ 6  5]\n",
            " [14 13]]\n",
            "[[11 16]\n",
            " [ 5  8]]\n"
          ]
        }
      ]
    },
    {
      "cell_type": "code",
      "source": [
        "import numpy as np\n",
        "\n",
        "x = np.array([[1,2],\n",
        "              [3,4]])\n",
        "#chuyen vi\n",
        "print(x)\n",
        "print(x.T)"
      ],
      "metadata": {
        "colab": {
          "base_uri": "https://localhost:8080/"
        },
        "id": "YKx2_hFKnOFY",
        "outputId": "ef19dc2e-9f64-4b99-af7e-08c907a08423"
      },
      "execution_count": null,
      "outputs": [
        {
          "output_type": "stream",
          "name": "stdout",
          "text": [
            "[[1 2]\n",
            " [3 4]]\n",
            "[[1 3]\n",
            " [2 4]]\n"
          ]
        }
      ]
    },
    {
      "cell_type": "code",
      "source": [
        "import numpy as np\n",
        "\n",
        "x = np.array([[1,2],\n",
        "              [3,4]])\n",
        "\n",
        "#tong cac phan tu cua mang\n",
        "print(np.sum(x))\n",
        "\n",
        "#tong tung cot\n",
        "print(np.sum(x, axis = 0))\n",
        "\n",
        "#tong tung dong\n",
        "print(np.sum(x, axis=1))"
      ],
      "metadata": {
        "colab": {
          "base_uri": "https://localhost:8080/"
        },
        "id": "ju1d1L4QnRFr",
        "outputId": "41fd60b7-0229-4171-ddc0-46c4fc38e8a9"
      },
      "execution_count": null,
      "outputs": [
        {
          "output_type": "stream",
          "name": "stdout",
          "text": [
            "10\n",
            "[4 6]\n",
            "[3 7]\n"
          ]
        }
      ]
    },
    {
      "cell_type": "code",
      "source": [
        "import numpy as np\n",
        "\n",
        "data = np.array([1,2,3])\n",
        "\n",
        "print(data.min())\n",
        "print(data.max())"
      ],
      "metadata": {
        "colab": {
          "base_uri": "https://localhost:8080/"
        },
        "id": "_2w8FJewnUdD",
        "outputId": "28de1894-242f-4073-bbe3-48851bd5cbd5"
      },
      "execution_count": null,
      "outputs": [
        {
          "output_type": "stream",
          "name": "stdout",
          "text": [
            "1\n",
            "3\n"
          ]
        }
      ]
    },
    {
      "cell_type": "code",
      "source": [
        "import numpy as np\n",
        "\n",
        "data = np.array([1,2,3])\n",
        "factor = 2\n",
        "\n",
        "#broadcasting\n",
        "result_multiplication = data*factor\n",
        "result_minus = data - factor\n",
        "\n",
        "print(data)\n",
        "print(result_multiplication)\n",
        "print(result_minus)"
      ],
      "metadata": {
        "colab": {
          "base_uri": "https://localhost:8080/"
        },
        "id": "-dhJn1vwnX1M",
        "outputId": "9f191c7a-2875-49f7-8518-6515e6481ab0"
      },
      "execution_count": null,
      "outputs": [
        {
          "output_type": "stream",
          "name": "stdout",
          "text": [
            "[1 2 3]\n",
            "[2 4 6]\n",
            "[-1  0  1]\n"
          ]
        }
      ]
    },
    {
      "cell_type": "code",
      "source": [
        "import numpy as np\n",
        "\n",
        "x = np.array([[1,2,3],\n",
        "              [4,5,6],\n",
        "              [7,8,9],\n",
        "              [10,11,12]])\n",
        "v = np.array([1,0,1])\n",
        "y = x + v\n",
        "print(y)"
      ],
      "metadata": {
        "colab": {
          "base_uri": "https://localhost:8080/"
        },
        "id": "-vNhLBdznbDH",
        "outputId": "e812120b-2ca4-418a-e187-c56088ce77be"
      },
      "execution_count": null,
      "outputs": [
        {
          "output_type": "stream",
          "name": "stdout",
          "text": [
            "[[ 2  2  4]\n",
            " [ 5  5  7]\n",
            " [ 8  8 10]\n",
            " [11 11 13]]\n"
          ]
        }
      ]
    },
    {
      "cell_type": "code",
      "source": [],
      "metadata": {
        "id": "pRcchs0rmIwG"
      },
      "execution_count": null,
      "outputs": []
    }
  ]
}